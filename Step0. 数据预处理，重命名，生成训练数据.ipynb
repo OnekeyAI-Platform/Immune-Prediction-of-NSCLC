{
 "cells": [
  {
   "cell_type": "code",
   "execution_count": null,
   "id": "20890301",
   "metadata": {},
   "outputs": [],
   "source": [
    "import os\n",
    "import pandas as pd\n",
    "from glob import glob\n",
    "root = r'F:\\20240120-HanDanDan\\patches'\n",
    "\n",
    "patches = pd.DataFrame(glob(os.path.join(root, '*', '*.jpg')), columns=['fpath'])\n",
    "patches['ID'] = patches['fpath'].map(lambda x: os.path.basename(os.path.dirname(x)))\n",
    "patches['filename'] = patches['fpath'].map(lambda x: os.path.basename(x))\n",
    "patches"
   ]
  },
  {
   "cell_type": "code",
   "execution_count": null,
   "id": "3a231da9",
   "metadata": {},
   "outputs": [],
   "source": [
    "import os\n",
    "import shutil\n",
    "import pandas as pd\n",
    "from onekey_algo.custom.components.comp2 import split_dataset4sol\n",
    "from onekey_algo import get_param_in_cwd\n",
    "from onekey_algo.custom.utils import print_join_info\n",
    "\n",
    "data_root = get_param_in_cwd('data_root')\n",
    "data = pd.read_csv(os.path.join(data_root, 'label.csv'), dtype={'ID': str})\n",
    "train_data = data[data['group'] == 'train']\n",
    "test_data = data[data['group'] != 'train']\n",
    "\n",
    "rt = split_dataset4sol(train_data, train_data['label'], cv=False, n_trails=10, test_size=0.33, save_dir=data_root, shuffle=True)\n",
    "for idx, (train, val) in enumerate(rt):    \n",
    "    val['group'] = 'val'\n",
    "    pd.concat([train, val, test_data], axis=0).to_csv(os.path.join(data_root, 'split_info', f'label-RND-{idx}.csv'), index=False)\n",
    "    train = pd.merge(train, patches[['ID', 'fpath']], on='ID', how='inner')\n",
    "    print('训练集:', len(set(train['ID'])))\n",
    "    train[['fpath', 'label']].to_csv(os.path.join(data_root, 'split_info', f'train-RND-{idx}.txt'), index=False, header=False, sep='\\t')\n",
    "    val['group'] = 'val'\n",
    "    val = pd.concat([val, test_data], axis=0)\n",
    "    val = pd.merge(val, patches[['ID', 'fpath']], on='ID', how='inner')\n",
    "    val[['fpath', 'label']].to_csv(os.path.join(data_root, 'split_info', f'val-RND-{idx}.txt'), index=False, header=False, sep='\\t')\n",
    "    \n",
    "    print('测试集:', len(set(val['ID'])))"
   ]
  },
  {
   "cell_type": "code",
   "execution_count": null,
   "id": "de9d17ca",
   "metadata": {},
   "outputs": [],
   "source": []
  }
 ],
 "metadata": {
  "kernelspec": {
   "display_name": "Python 3 (ipykernel)",
   "language": "python",
   "name": "python3"
  },
  "language_info": {
   "codemirror_mode": {
    "name": "ipython",
    "version": 3
   },
   "file_extension": ".py",
   "mimetype": "text/x-python",
   "name": "python",
   "nbconvert_exporter": "python",
   "pygments_lexer": "ipython3",
   "version": "3.7.12"
  }
 },
 "nbformat": 4,
 "nbformat_minor": 5
}
